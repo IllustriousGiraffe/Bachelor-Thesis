{
 "cells": [
  {
   "cell_type": "code",
   "execution_count": 3,
   "metadata": {},
   "outputs": [],
   "source": [
    "import os\n",
    "import tweepy as tw\n",
    "import pandas as pd\n",
    "from textblob import TextBlob\n",
    "\n",
    "#Twitter developer account tokens\n",
    "consumer_key = '2GLBzqZTzm2xOMwzEEmK*****'\n",
    "consumer_secret = 'DlyUcXznzHELk5Epqps0HaWEH23dqDxTTw7dsabc**********'\n",
    "access_token = '2603391376-YBWE0yIT3X2Td8PMdT6AeCjCpbJzXk**********'\n",
    "access_token_secret = 'hvwSJwzwEwH3CKsxFRhckMxXNPzk5sG0Cvx**********'\n",
    "\n",
    "#Twitter developer account authentification via tokens\n",
    "auth = tw.OAuthHandler(consumer_key, consumer_secret)\n",
    "auth.set_access_token(access_token, access_token_secret)\n",
    "api = tw.API(auth, wait_on_rate_limit=True)\n",
    "\n",
    "since = \"2020-03-30\" #start date for query\n",
    "until = \"2020-04-06\" #end date for query\n",
    "\n",
    "#Tweepy tw.cursor: check documentation @http://docs.tweepy.org/en/latest/cursor_tutorial.html\n",
    "tweets = tw.Cursor(api.search, \n",
    "              q=\"$SPX -filter:retweets -filter:user_mentions\",\n",
    "              lang=\"en\",\n",
    "              since=since,\n",
    "              until=until,\n",
    "              tweet_mode=\"extended\").items()\n",
    "\n",
    "#retrieve date and text for each tweet\n",
    "date_tweet = [[tweet.created_at, tweet.full_text.encode('utf-8'), tweet.user.followers_count] for tweet in tweets] \n",
    "\n",
    "#convert tweets into 2-col PD data frame\n",
    "df = pd.DataFrame(data=date_tweet, columns=['date','text'])\n",
    "\n",
    "df['text'] = df['text'].apply(str)\n",
    "\n",
    "df['polarity'] = df['text'].apply(lambda text: TextBlob(text).polarity)\n",
    "df['subjectivity'] = df['text'].apply(lambda text: TextBlob(text).subjectivity)\n",
    "\n",
    "df.to_excel (r'C:\\Users\\timod\\Desktop\\SPX.xlsx', index = None, header=True)"
   ]
  },
  {
   "cell_type": "code",
   "execution_count": 6,
   "metadata": {},
   "outputs": [],
   "source": [
    "df.to_excel (r'C:\\Users\\timod\\Desktop\\S&P500_MarW4.xlsx', index = None, header=True)"
   ]
  },
  {
   "cell_type": "code",
   "execution_count": 8,
   "metadata": {},
   "outputs": [],
   "source": [
    "df.to_excel (r'C:\\Users\\timod\\Desktop\\BTC_MarW4.xlsx', index = None, header=True)"
   ]
  },
  {
   "cell_type": "code",
   "execution_count": 4,
   "metadata": {},
   "outputs": [],
   "source": [
    "df.to_excel (r'C:\\Users\\timod\\Desktop\\GLD_MarW4.xlsx', index = None, header=True)"
   ]
  }
 ],
 "metadata": {
  "kernelspec": {
   "display_name": "Python 3",
   "language": "python",
   "name": "python3"
  },
  "language_info": {
   "codemirror_mode": {
    "name": "ipython",
    "version": 3
   },
   "file_extension": ".py",
   "mimetype": "text/x-python",
   "name": "python",
   "nbconvert_exporter": "python",
   "pygments_lexer": "ipython3",
   "version": "3.7.6"
  }
 },
 "nbformat": 4,
 "nbformat_minor": 2
}
